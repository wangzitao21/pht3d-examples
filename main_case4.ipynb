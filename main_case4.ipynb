{
 "cells": [
  {
   "cell_type": "code",
   "execution_count": 1,
   "metadata": {},
   "outputs": [],
   "source": [
    "import os\n",
    "import shutil\n",
    "import flopy\n",
    "import numpy as np\n",
    "import matplotlib.pyplot as plt\n",
    "from sklearn.metrics import r2_score\n",
    "\n",
    "# ! Custom modules\n",
    "from utils import pht3d_fsp\n",
    "from utils.tools import calculate_MAS_sums, clear_directory\n",
    "from utils.pht3d_utils import copy_pht3d_datab, run_pht3d_program\n",
    "\n",
    "clear_directory()"
   ]
  },
  {
   "cell_type": "code",
   "execution_count": 2,
   "metadata": {},
   "outputs": [],
   "source": [
    "data_folder = 'case4'\n",
    "model_name = 'case4_modflow'\n",
    "model_ws = './models_folder/' + data_folder\n",
    "\n",
    "Lx = 0.08\n",
    "Ly = 1.0\n",
    "\n",
    "nrow = 1\n",
    "ncol = 40\n",
    "nlay = 1\n",
    "\n",
    "delr = Lx / ncol\n",
    "delc = Ly / nrow\n",
    "\n",
    "top = 1.0\n",
    "botm = 0.0\n",
    "\n",
    "hk = 1.0\n",
    "\n",
    "nper = 1\n",
    "perlen = [20736,]\n",
    "nstp = [120,]\n",
    "steady = [True,]\n",
    "\n",
    "model = flopy.modflow.Modflow(modelname=model_name, model_ws=model_ws, exe_name='./bin/mf2005')\n",
    "dis = flopy.modflow.ModflowDis(model, nlay=nlay, nrow=nrow, ncol=ncol, \n",
    "                              delr=delr, delc=delc, top=top, botm=botm,\n",
    "                              nper=nper, perlen=perlen, nstp=nstp, steady=steady)\n",
    "\n",
    "ibound = np.ones((nlay, nrow, ncol), dtype=np.int32)\n",
    "ibound[0, 0, -1] = -1\n",
    "strt = np.ones((nlay, nrow, ncol), dtype=np.float32)\n",
    "bas = flopy.modflow.ModflowBas(model, ibound=ibound, strt=strt)\n",
    "\n",
    "lpf = flopy.modflow.ModflowLpf(model, hk=hk, laytyp=1, ipakcb=53)\n",
    "\n",
    "chd_data = {0: [[0, 0, ncol-1, 1.0, 1.0],]}\n",
    "chd = flopy.modflow.ModflowChd(model, stress_period_data=chd_data)\n",
    "\n",
    "wel_data = {0: [[0, 0, 0, 1.15741E-05]]} # [0, 0, 40, 0.1]\n",
    "wel = flopy.modflow.ModflowWel(model, ipakcb=66, stress_period_data=wel_data, unitnumber=78)\n",
    "\n",
    "lmt = flopy.modflow.ModflowLmt(model, output_file_name='mt3d_link.ftl')\n",
    "\n",
    "stress_period_data = {}\n",
    "for kper in range(nper):\n",
    "    for kstp in range(nstp[kper]):\n",
    "        stress_period_data[(kper, kstp)] = [\"save head\", \"save drawdown\", \n",
    "                                            \"save budget\", \"print head\", \"print budget\",]\n",
    "oc = flopy.modflow.ModflowOc(model, stress_period_data=stress_period_data, compact=True)\n",
    "\n",
    "pcg = flopy.modflow.ModflowPcg(model=model)\n",
    "\n",
    "model.write_input()\n",
    "success, mfoutput = model.run_model(silent=True, pause=False, report=True)\n",
    "if not success:\n",
    "    raise Exception('MODFLOW did not terminate normally.')"
   ]
  },
  {
   "cell_type": "code",
   "execution_count": 3,
   "metadata": {},
   "outputs": [
    {
     "name": "stdout",
     "output_type": "stream",
     "text": [
      "R2 score:  1.0\n"
     ]
    },
    {
     "data": {
      "image/png": "[encoded data removed]",
      "text/plain": [
       "<Figure size 600x200 with 2 Axes>"
      ]
     },
     "metadata": {},
     "output_type": "display_data"
    }
   ],
   "source": [
    "head = flopy.utils.binaryfile.HeadFile(model_ws+'/'+model_name+\".hds\").get_alldata()\n",
    "head_official = flopy.utils.binaryfile.HeadFile(\"./official_examples/ex04_pht3d/mf2k/heads.dat\").get_alldata()\n",
    "\n",
    "plt.figure(figsize=(6,2))\n",
    "plt.subplot(121)\n",
    "plt.plot(head[-1, 0, 0])\n",
    "plt.title(\"head\")\n",
    "plt.subplot(122)\n",
    "plt.plot(head_official[-1, 0, 0])\n",
    "plt.title(\"official head\")\n",
    "\n",
    "print(\"R2 score: \", r2_score(np.ravel(head_official), np.ravel(head)))"
   ]
  },
  {
   "cell_type": "code",
   "execution_count": 4,
   "metadata": {},
   "outputs": [
    {
     "data": {
      "text/plain": [
       "'./models_folder/case4\\\\pht3d_ph.dat'"
      ]
     },
     "execution_count": 4,
     "metadata": {},
     "output_type": "execute_result"
    }
   ],
   "source": [
    "## Create PHT3D Reactive Transport Model, supported by PHT3D-FSP\n",
    "## Define \"spec\", calling PHT3D-FSP (adopt function variables as needed)\n",
    "spec = pht3d_fsp.create(\n",
    "    xlsx_path=\"./\", \n",
    "    xlsx_name=f\"./data/{data_folder}/pht3d_species.xlsx\",\n",
    "    nlay=nlay, \n",
    "    nrow=nrow, \n",
    "    ncol=ncol,\n",
    "    ph_os=2,\n",
    "    ph_temp=25,\n",
    "    ph_asbin=1,\n",
    "    ph_eps_aqu=0,\n",
    "    ph_ph=0,\n",
    "    # ph_print=0,\n",
    "    ph_cb_offset=0,\n",
    "    # ph_surf_calc_type=\"-diffuse_layer\",\n",
    "    write_ph=\"yes\"\n",
    ")\n",
    "# Move the pht3d_ph.dat file into the models_folder\n",
    "source = 'pht3d_ph.dat'\n",
    "destination = os.path.join(model_ws, 'pht3d_ph.dat')\n",
    "shutil.move(source, destination)\n",
    "# spec"
   ]
  },
  {
   "cell_type": "code",
   "execution_count": 5,
   "metadata": {},
   "outputs": [
    {
     "data": {
      "text/plain": [
       "{0: [0,\n",
       "  0,\n",
       "  0,\n",
       "  0.0,\n",
       "  2,\n",
       "  0.0006,\n",
       "  0.0012,\n",
       "  0.0,\n",
       "  0.0,\n",
       "  0.0,\n",
       "  6.997,\n",
       "  13.63,\n",
       "  0.0,\n",
       "  0.0,\n",
       "  0.0]}"
      ]
     },
     "execution_count": 5,
     "metadata": {},
     "output_type": "execute_result"
    }
   ],
   "source": [
    "# Define SSM and RCH data (for the SSM package) for each stress period\n",
    "ssm_data = {}\n",
    "itype = flopy.mt3d.Mt3dSsm.itype_dict() # ... to check the key words\n",
    "# print(itype)\n",
    "# {'CHD': 1, 'BAS6': 1, 'PBC': 1, 'WEL': 2, 'DRN': 3, 'RIV': 4, 'GHB': 5, 'MAS': 15, 'CC': -1}\n",
    "\n",
    "wel_spec={}\n",
    "\n",
    "for i in range(1):\n",
    "    for key in spec.keys():\n",
    "        wel_spec[key]=spec[key][0,0,0]\n",
    "\n",
    "    wel_spec['ca'] = 0.0006\n",
    "    wel_spec['cl'] = 0.0012\n",
    "    wel_spec['k'] = 0.0\n",
    "    wel_spec['na'] = 0.0\n",
    "    wel_spec['n5'] = 0.0\n",
    "\n",
    "    wel_spec['ph'] = 6.997\n",
    "    wel_spec['pe'] = 13.63\n",
    "\n",
    "    wel_spec['cax2'] = 0.0\n",
    "    wel_spec['nax'] = 0.0\n",
    "    wel_spec['kx'] = 0.0\n",
    "\n",
    "    ssm_per=[0,0,0,0.0,itype['WEL']]\n",
    "    for key in spec.keys():\n",
    "        ssm_per.append(wel_spec[key])\n",
    "    \n",
    "    ssm_data[i] = ssm_per\n",
    "\n",
    "ssm_data"
   ]
  },
  {
   "cell_type": "code",
   "execution_count": 6,
   "metadata": {},
   "outputs": [
    {
     "name": "stdout",
     "output_type": "stream",
     "text": [
      "DSP: setting dmcoef for component 2 to zero, kwarg name dmcoef2\n",
      "DSP: setting dmcoef for component 3 to zero, kwarg name dmcoef3\n",
      "DSP: setting dmcoef for component 4 to zero, kwarg name dmcoef4\n",
      "DSP: setting dmcoef for component 5 to zero, kwarg name dmcoef5\n",
      "DSP: setting dmcoef for component 6 to zero, kwarg name dmcoef6\n",
      "DSP: setting dmcoef for component 7 to zero, kwarg name dmcoef7\n"
     ]
    }
   ],
   "source": [
    "model_name = 'case4_mt3dms'\n",
    "icbund = np.abs(ibound)\n",
    "\n",
    "## Initiate model object\n",
    "mt = flopy.mt3d.Mt3dms(model_name, model_ws=model_ws, exe_name='./bin/mt3dms',\n",
    "                      ftlfilename='mt3d_link.ftl',modflowmodel=model, namefile_ext='nam_pht3d')\n",
    "\n",
    "prsity = 1.0\n",
    "\n",
    "save_times = [0, 172.8, 345.6, 518.4, 691.2, 864, 1036.8, 1209.6, 1382.4, 1555.2, 1728, 1900.8, 2073.6, 2246.4, 2419.2, 2592, 2764.8, 2937.6, 3110.4, 3283.2, 3456, 3628.8, 3801.6, 3974.4, 4147.2, 4320, 4492.8, 4665.6, 4838.4, 5011.2, 5184, 5356.8, 5529.6, 5702.4, 5875.2, 6048, 6220.8, 6393.6, 6566.4, 6739.2, 6912, 7084.8, 7257.6, 7430.4, 7603.2, 7776, 7948.8, 8121.6, 8294.4, 8467.2, 8640, 8812.8, 8985.6, 9158.4, 9331.2, 9504, 9676.8, 9849.6, 10022.4, 10195.2, 10368, 10540.8, 10713.6, 10886.4, 11059.2, 11232, 11404.8, 11577.6, 11750.4, 11923.2, 12096, 12268.8, 12441.6, 12614.4, 12787.2, 12960, 13132.8, 13305.6, 13478.4, 13651.2, 13824, 13996.8, 14169.6, 14342.4, 14515.2, 14688, 14860.8, 15033.6, 15206.4, 15379.2, 15552, 15724.8, 15897.6, 16070.4, 16243.2, 16416, 16588.8, 16761.6, 16934.4, 17107.2, 17280, 17452.8, 17625.6, 17798.4, 17971.2, 18144, 18316.8, 18489.6, 18662.4, 18835.2, 19008, 19180.8, 19353.6, 19526.4, 19699.2, 19872, 20044.8, 20217.6, 20390.4, 20563.2, 20736]\n",
    "## Define FloPy packages\n",
    "exec(f'btn = flopy.mt3d.Mt3dBtn(mt, \\\n",
    "                                nper=nper, perlen=perlen, nstp=nstp,\\\n",
    "                                nlay=nlay, ncol=ncol, nrow=nrow, \\\n",
    "                                laycon=[1], prsity=prsity, icbund=icbund, nprs=1, mxstrn=50000, tsmult=1, timprs=save_times, \\\n",
    "    ncomp={pht3d_fsp.create.ncomp}, mcomp={pht3d_fsp.create.mcomp}, {pht3d_fsp.create.sconc_btn})') # call BTN package in this way to invoke PHT3D-FSP variables\n",
    "\n",
    "adv = flopy.mt3d.Mt3dAdv(mt, mixelm=-1, percel=0.75, mxpart=100000, nadvfd=2)\n",
    "dsp = flopy.mt3d.Mt3dDsp(mt, al=0.002, trpt=0.1, trpv=0.1, multiDiff=True,dmcoef=0.0,)\n",
    "gcg = flopy.mt3d.Mt3dGcg(mt, isolve=1, cclose=1.e-8)\n",
    "exec(f'ssm = flopy.mt3d.Mt3dSsm(mt, stress_period_data=ssm_data, mxss=1000)')\n",
    "mt.write_input()"
   ]
  },
  {
   "cell_type": "code",
   "execution_count": 7,
   "metadata": {},
   "outputs": [],
   "source": [
    "# Manually add the PHC reaction package to the nam file and push out as pht3d.nam\n",
    "s='PHC               39  pht3d_ph.dat\\n'\n",
    "namfiletxt=open(model_ws + '/'+ mt.namefile, 'r').read()\n",
    "pht3d_nam = namfiletxt+s\n",
    "file = open(model_ws + '/pht3d.nam','w')\n",
    "file.write(pht3d_nam)\n",
    "file.close()"
   ]
  },
  {
   "cell_type": "code",
   "execution_count": null,
   "metadata": {},
   "outputs": [],
   "source": [
    "copy_pht3d_datab(source_folder=data_folder)\n",
    "\n",
    "run_pht3d_program(work_dir=data_folder)"
   ]
  },
  {
   "cell_type": "code",
   "execution_count": 9,
   "metadata": {},
   "outputs": [
    {
     "data": {
      "image/png": "[encoded data removed]",
      "text/plain": [
       "<Figure size 640x480 with 1 Axes>"
      ]
     },
     "metadata": {},
     "output_type": "display_data"
    }
   ],
   "source": [
    "results_ca = flopy.utils.binaryfile.UcnFile(model_ws+'/PHT3D001.UCN').get_alldata()\n",
    "results_cl = flopy.utils.binaryfile.UcnFile(model_ws+'/PHT3D002.UCN').get_alldata()\n",
    "results_k = flopy.utils.binaryfile.UcnFile(model_ws+'/PHT3D003.UCN').get_alldata()\n",
    "results_na = flopy.utils.binaryfile.UcnFile(model_ws+'/PHT3D004.UCN').get_alldata()\n",
    "\n",
    "plt.scatter(np.arange(121), results_ca[:,0,0,39]*1000, s=10.0, color='red', label='Ca')\n",
    "plt.scatter(np.arange(121), results_cl[:,0,0,39]*1000, s=10.0, color='blue', label='Cl')\n",
    "plt.scatter(np.arange(121), results_k[:,0,0,39]*1000, s=10.0, color='green', label='K')\n",
    "plt.scatter(np.arange(121), results_na[:,0,0,39]*1000, s=10.0, color='black', label='Na')\n",
    "plt.legend\n",
    "plt.grid()"
   ]
  }
 ],
 "metadata": {
  "kernelspec": {
   "display_name": "work",
   "language": "python",
   "name": "python3"
  },
  "language_info": {
   "codemirror_mode": {
    "name": "ipython",
    "version": 3
   },
   "file_extension": ".py",
   "mimetype": "text/x-python",
   "name": "python",
   "nbconvert_exporter": "python",
   "pygments_lexer": "ipython3",
   "version": "3.11.9"
  }
 },
 "nbformat": 4,
 "nbformat_minor": 2
}
